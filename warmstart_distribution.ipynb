{
 "cells": [
  {
   "cell_type": "code",
   "execution_count": null,
   "metadata": {},
   "outputs": [],
   "source": [
    "import os\n",
    "import numpy as np\n",
    "import matplotlib.pyplot as plt\n",
    "\n",
    "# Directory containing the samples\n",
    "# Directory containing the samples\n",
    "samples_dir = './results/repl_uci/mclmc_energy_4_hidden_layers/samples'\n",
    "\n",
    "# Load one sample to find all keys\n",
    "data = np.load(os.path.join(samples_dir, 'params_0.npz'))\n",
    "keys = data.files\n",
    "\n",
    "# Function to load samples from npz files\n",
    "def load_samples(samples_dir):\n",
    "    samples = {key: [] for key in keys}\n",
    "    for sample_file in os.listdir(samples_dir):\n",
    "        if sample_file.endswith('.npz'):\n",
    "            sample_path = os.path.join(samples_dir, sample_file)\n",
    "            data = np.load(sample_path)\n",
    "            for key in keys:\n",
    "                samples[key].append(data[key])\n",
    "    for key in samples:\n",
    "        samples[key] = np.array(samples[key])\n",
    "    return samples\n",
    "\n",
    "# Load the samples\n",
    "samples = load_samples(samples_dir)\n",
    "\n",
    "# Plot histograms of different layers of kernel and bias\n",
    "#def plot_histograms(samples):\n",
    "#    for key in samples:\n",
    "#        plt.figure()\n",
    "#        plt.hist(samples[key].flatten(), bins=50, alpha=0.75)\n",
    "#        plt.title(f'Histogram of {key}')\n",
    "#        plt.xlabel('Value')\n",
    "#        plt.ylabel('Frequency')\n",
    "#        plt.show()\n",
    "#plot_histograms(samples)"
   ]
  },
  {
   "cell_type": "code",
   "execution_count": null,
   "metadata": {},
   "outputs": [],
   "source": [
    "weights = np.matmul(samples['fcn.layer1.kernel'],samples['fcn.layer2.kernel'])\n",
    "weights = np.matmul(weights,samples['fcn.layer3.kernel'])"
   ]
  },
  {
   "cell_type": "code",
   "execution_count": 5,
   "metadata": {},
   "outputs": [
    {
     "data": {
      "text/plain": [
       "(12, 8, 16)"
      ]
     },
     "execution_count": 5,
     "metadata": {},
     "output_type": "execute_result"
    }
   ],
   "source": [
    "samples['fcn.layer0.kernel'].shape"
   ]
  },
  {
   "cell_type": "code",
   "execution_count": 16,
   "metadata": {},
   "outputs": [],
   "source": [
    "import os\n",
    "import numpy as np\n",
    "import matplotlib.pyplot as plt\n",
    "\n",
    "samples_dir_chain_0 = './results/repl_uci/mclmc_airfoil_2_hidden_layers/samples/0'\n",
    "samples_dir_chain_1 = './results/repl_uci/mclmc_airfoil_2_hidden_layers/samples/1'\n",
    "keys = np.load(os.path.join(samples_dir_chain_0, 'sample_0.npz')).files\n",
    "\n",
    "# Function to load samples from npz files\n",
    "def load_samples(samples_dir):\n",
    "    samples = {key: [] for key in keys}\n",
    "    for sample_file in os.listdir(samples_dir):\n",
    "        if sample_file.endswith('.npz'):\n",
    "            sample_path = os.path.join(samples_dir, sample_file)\n",
    "            data = np.load(sample_path)\n",
    "            for key in keys:\n",
    "                samples[key].append(data[key])\n",
    "    for key in samples:\n",
    "        samples[key] = np.array(samples[key])\n",
    "    return samples\n",
    "\n",
    "# Plot histograms of different layers of kernel and bias for both chains\n",
    "def plot_histograms_two_chains(samples_chain_0, samples_chain_1):\n",
    "    for key in samples_chain_0:\n",
    "        if len(samples_chain_0[key].shape) == 2:\n",
    "            for i in range(samples_chain_0[key].shape[1]):\n",
    "                plt.figure()\n",
    "                plt.hist(samples_chain_0[key][:, i].flatten(), bins=50, alpha=0.5, label=f'Chain 0 - Position {i}', color='blue')\n",
    "                plt.hist(samples_chain_1[key][:, i].flatten(), bins=50, alpha=0.5, label=f'Chain 1 - Position {i}', color='red')\n",
    "                plt.title(f'Histogram of {key} at Position {i}')\n",
    "                plt.xlabel('Value')\n",
    "                plt.ylabel('Frequency')\n",
    "                plt.legend()\n",
    "                output_dir = './histograms'\n",
    "                os.makedirs(output_dir, exist_ok=True)\n",
    "                plt.savefig(os.path.join(output_dir, f'{key}_position_{i}.png'))\n",
    "                plt.close()\n",
    "        elif len(samples_chain_0[key].shape) == 3:\n",
    "            for i in range(samples_chain_0[key].shape[1]):\n",
    "                for j in range (samples_chain_0[key].shape[2]):\n",
    "                    plt.figure()\n",
    "                    plt.hist(samples_chain_0[key][:, i, j].flatten(), bins=50, alpha=0.5, label=f'Chain 0 - Position {i}', color='blue')\n",
    "                    plt.hist(samples_chain_1[key][:, i, j].flatten(), bins=50, alpha=0.5, label=f'Chain 1 - Position {i}', color='red')\n",
    "                    plt.title(f'Histogram of {key} at Position {i}{j}')\n",
    "                    plt.xlabel('Value')\n",
    "                    plt.ylabel('Frequency')\n",
    "                    plt.legend()\n",
    "                    output_dir = './histograms'\n",
    "                    os.makedirs(output_dir, exist_ok=True)\n",
    "                    plt.savefig(os.path.join(output_dir, f'{key}_position_{i}{j}.png'))\n",
    "                    plt.close()\n",
    "        \n",
    "samples_chain_0 = load_samples(samples_dir_chain_0)\n",
    "samples_chain_1 = load_samples(samples_dir_chain_1)\n",
    "\n",
    "plot_histograms_two_chains(samples_chain_0, samples_chain_1)\n"
   ]
  },
  {
   "cell_type": "code",
   "execution_count": 13,
   "metadata": {},
   "outputs": [],
   "source": [
    "import csv\n",
    "\n",
    "warmstart_chain_0 = np.load('./results/repl_uci/mclmc_airfoil_2_hidden_layers/warmstart/params_0.npz')\n",
    "warmstart_chain_1 = np.load('./results/repl_uci/mclmc_airfoil_2_hidden_layers/warmstart/params_1.npz')\n",
    "def save_warmstart(warmstart, chain):\n",
    "    with open(f'warmstart_chain_{chain}.csv', 'w', newline='') as csvfile:\n",
    "        writer = csv.writer(csvfile)\n",
    "        writer.writerow(['Key', 'Values'])\n",
    "        for key in warmstart:\n",
    "            writer.writerow([key, warmstart[key]])\n",
    "save_warmstart(warmstart_chain_0, 0)\n",
    "save_warmstart(warmstart_chain_1, 1)"
   ]
  },
  {
   "cell_type": "code",
   "execution_count": 22,
   "metadata": {},
   "outputs": [
    {
     "name": "stdout",
     "output_type": "stream",
     "text": [
      "-0.38726816\n",
      "0.09800241\n"
     ]
    }
   ],
   "source": [
    "warmstart_chain_0 = np.load('./results/repl_uci/mclmc_airfoil_2_hidden_layers/warmstart/params_0.npz')\n",
    "warmstart_chain_1 = np.load('./results/repl_uci/mclmc_airfoil_2_hidden_layers/warmstart/params_1.npz')\n",
    "print(warmstart_chain_0['fcn.layer1.kernel'][13,12])\n",
    "print(warmstart_chain_1['fcn.layer1.kernel'][13,12])"
   ]
  }
 ],
 "metadata": {
  "kernelspec": {
   "display_name": "venv",
   "language": "python",
   "name": "python3"
  },
  "language_info": {
   "codemirror_mode": {
    "name": "ipython",
    "version": 3
   },
   "file_extension": ".py",
   "mimetype": "text/x-python",
   "name": "python",
   "nbconvert_exporter": "python",
   "pygments_lexer": "ipython3",
   "version": "3.10.8"
  }
 },
 "nbformat": 4,
 "nbformat_minor": 2
}
